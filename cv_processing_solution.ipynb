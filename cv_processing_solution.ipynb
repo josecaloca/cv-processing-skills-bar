{
 "cells": [
  {
   "cell_type": "code",
   "execution_count": 2,
   "metadata": {},
   "outputs": [],
   "source": [
    "import cv2\n",
    "import pytesseract\n",
    "from pytesseract import Output\n",
    "from collections import Counter\n",
    "from src.parse_text_files import create_skills_list, calculate_bar_length_and_ratio\n",
    "import pandas as pd\n",
    "\n",
    "pytesseract.pytesseract.tesseract_cmd = r'C:\\Program Files\\Tesseract-OCR\\tesseract'"
   ]
  },
  {
   "cell_type": "code",
   "execution_count": 5,
   "metadata": {},
   "outputs": [],
   "source": [
    "cv_image_path =  './data/resume examle.png'"
   ]
  },
  {
   "cell_type": "code",
   "execution_count": 6,
   "metadata": {},
   "outputs": [],
   "source": [
    "# Load the image\n",
    "image = cv2.imread(cv_image_path)\n",
    "# Convert to grayscale\n",
    "gray_image = cv2.cvtColor(image, cv2.COLOR_BGR2GRAY)\n",
    "# Use binary thresholding to aid in OCR and bar detection\n",
    "_, thresh_image = cv2.threshold(gray_image, 165, 255, cv2.THRESH_BINARY_INV)\n",
    " # OCR to extract text and their bounding boxes\n",
    "data = pytesseract.image_to_data(thresh_image, output_type=Output.DICT)"
   ]
  },
  {
   "cell_type": "code",
   "execution_count": 37,
   "metadata": {},
   "outputs": [
    {
     "name": "stdout",
     "output_type": "stream",
     "text": [
      "['project management', 'teamwork', 'time management', 'emotional intelligence', 'public speaking', 'leadership', 'critical thinking', 'storytelling', 'marketing', 'advertising']\n"
     ]
    }
   ],
   "source": [
    "# Assuming 'data' is the output dictionary from pytesseract OCR\n",
    "skills_list = create_skills_list(data, 'SKILLS', 'CERTIFICATES')\n",
    "print(skills_list)"
   ]
  },
  {
   "cell_type": "code",
   "execution_count": 38,
   "metadata": {},
   "outputs": [],
   "source": [
    "keywords = []\n",
    "for skill in skills_list:\n",
    "    # get the last word in the string \n",
    "    skill_name = skill.split()[-1]\n",
    "    keywords.append(skill_name)"
   ]
  },
  {
   "cell_type": "code",
   "execution_count": 39,
   "metadata": {},
   "outputs": [],
   "source": [
    "keywords = list(set(keywords))"
   ]
  },
  {
   "cell_type": "code",
   "execution_count": 58,
   "metadata": {},
   "outputs": [],
   "source": [
    "temp_list = []\n",
    "\n",
    "for text_index in range(len(data['text'])):\n",
    "    if data['text'][text_index].strip().lower() in keywords:\n",
    "        skill = data['text'][text_index].strip().lower()\n",
    "        (x, y, w, h) = (data['left'][text_index], data['top'][text_index], data['width'][text_index], data['height'][text_index])\n",
    "        # print(f\"left: {x}, top: {y}, width: {w}, height: {h}\")\n",
    "        \n",
    "        # Define the expected region where the bar would be based on the text's bounding box\n",
    "        bar_region_start_x = x + w + 20  # 20 pixels margin; adjust as necessary\n",
    "        bar_region_end_x = image.shape[1]  # end of the image width\n",
    "\n",
    "        # The y-coordinate to scan horizontally, typically the vertical middle of the text\n",
    "        middle_y = y + h // 2\n",
    "        \n",
    "        # print(\"middle_y: \", middle_y)\n",
    "        # print(\"bar_region_start_x: \", bar_region_start_x)\n",
    "\n",
    "        # Extract the line of pixel intensities from the grayscale image\n",
    "        line_pixels = gray_image[middle_y][bar_region_start_x:bar_region_end_x]\n",
    "        \n",
    "        # Calculate the most common non-white value, which we'll call the bar_value. \n",
    "        # This represents the intensity of light in a pixel, which is used to determine the length of the bar.\n",
    "        line_pixels = line_pixels[line_pixels != 255]\n",
    "        counter = Counter(line_pixels)\n",
    "        bar_value = counter.most_common(1)[0][0]\n",
    "        \n",
    "        # Calculate the bar length and ratio\n",
    "        bar_length, bar_value_count, ratio = calculate_bar_length_and_ratio(line_pixels, bar_value)\n",
    "        \n",
    "        temp_list.append((skill, ratio))\n",
    "        \n",
    "        # print(f\"Skill: {skill}\")\n",
    "        # print(f\"Ratio: {ratio * 100:.2f}%\")\n",
    "        # print('_________'*10)"
   ]
  },
  {
   "cell_type": "code",
   "execution_count": 56,
   "metadata": {},
   "outputs": [],
   "source": [
    "summary = pd.DataFrame(temp_list, columns=['Skill', 'Ratio']).groupby('Skill').max('Ratio').sort_values(by='Ratio', ascending=False).reset_index()\n",
    "\n",
    "ratio_lookup = dict(zip(summary['Skill'], summary['Ratio']))\n",
    "\n",
    "mapped_skills = []\n",
    "\n",
    "for skill in skills_list:\n",
    "    # Extract the last word of the skill\n",
    "    last_word = skill.split()[-1]\n",
    "    # Lookup the ratio using the last word of the skill\n",
    "    ratio = ratio_lookup.get(last_word, None)  # Returns None if the last word is not found\n",
    "    # Append the skill and ratio to the list\n",
    "    mapped_skills.append((skill, ratio))\n",
    "\n",
    "# Create the new DataFrame\n",
    "mapped_skills_df = pd.DataFrame(mapped_skills, columns=['Skill', 'Ratio'])\n"
   ]
  },
  {
   "cell_type": "code",
   "execution_count": 57,
   "metadata": {},
   "outputs": [
    {
     "data": {
      "text/html": [
       "<div>\n",
       "<style scoped>\n",
       "    .dataframe tbody tr th:only-of-type {\n",
       "        vertical-align: middle;\n",
       "    }\n",
       "\n",
       "    .dataframe tbody tr th {\n",
       "        vertical-align: top;\n",
       "    }\n",
       "\n",
       "    .dataframe thead th {\n",
       "        text-align: right;\n",
       "    }\n",
       "</style>\n",
       "<table border=\"1\" class=\"dataframe\">\n",
       "  <thead>\n",
       "    <tr style=\"text-align: right;\">\n",
       "      <th></th>\n",
       "      <th>Skill</th>\n",
       "      <th>Ratio</th>\n",
       "    </tr>\n",
       "  </thead>\n",
       "  <tbody>\n",
       "    <tr>\n",
       "      <th>0</th>\n",
       "      <td>project management</td>\n",
       "      <td>1.000000</td>\n",
       "    </tr>\n",
       "    <tr>\n",
       "      <th>1</th>\n",
       "      <td>teamwork</td>\n",
       "      <td>0.968127</td>\n",
       "    </tr>\n",
       "    <tr>\n",
       "      <th>2</th>\n",
       "      <td>time management</td>\n",
       "      <td>1.000000</td>\n",
       "    </tr>\n",
       "    <tr>\n",
       "      <th>3</th>\n",
       "      <td>emotional intelligence</td>\n",
       "      <td>0.941909</td>\n",
       "    </tr>\n",
       "    <tr>\n",
       "      <th>4</th>\n",
       "      <td>public speaking</td>\n",
       "      <td>0.879518</td>\n",
       "    </tr>\n",
       "    <tr>\n",
       "      <th>5</th>\n",
       "      <td>leadership</td>\n",
       "      <td>0.882591</td>\n",
       "    </tr>\n",
       "    <tr>\n",
       "      <th>6</th>\n",
       "      <td>critical thinking</td>\n",
       "      <td>0.908367</td>\n",
       "    </tr>\n",
       "    <tr>\n",
       "      <th>7</th>\n",
       "      <td>storytelling</td>\n",
       "      <td>0.844898</td>\n",
       "    </tr>\n",
       "    <tr>\n",
       "      <th>8</th>\n",
       "      <td>marketing</td>\n",
       "      <td>0.810811</td>\n",
       "    </tr>\n",
       "    <tr>\n",
       "      <th>9</th>\n",
       "      <td>advertising</td>\n",
       "      <td>0.351827</td>\n",
       "    </tr>\n",
       "  </tbody>\n",
       "</table>\n",
       "</div>"
      ],
      "text/plain": [
       "                    Skill     Ratio\n",
       "0      project management  1.000000\n",
       "1                teamwork  0.968127\n",
       "2         time management  1.000000\n",
       "3  emotional intelligence  0.941909\n",
       "4         public speaking  0.879518\n",
       "5              leadership  0.882591\n",
       "6       critical thinking  0.908367\n",
       "7            storytelling  0.844898\n",
       "8               marketing  0.810811\n",
       "9             advertising  0.351827"
      ]
     },
     "execution_count": 57,
     "metadata": {},
     "output_type": "execute_result"
    }
   ],
   "source": [
    "mapped_skills_df"
   ]
  },
  {
   "cell_type": "code",
   "execution_count": null,
   "metadata": {},
   "outputs": [],
   "source": []
  }
 ],
 "metadata": {
  "kernelspec": {
   "display_name": "random_walk",
   "language": "python",
   "name": "python3"
  },
  "language_info": {
   "codemirror_mode": {
    "name": "ipython",
    "version": 3
   },
   "file_extension": ".py",
   "mimetype": "text/x-python",
   "name": "python",
   "nbconvert_exporter": "python",
   "pygments_lexer": "ipython3",
   "version": "3.11.5"
  },
  "orig_nbformat": 4
 },
 "nbformat": 4,
 "nbformat_minor": 2
}
